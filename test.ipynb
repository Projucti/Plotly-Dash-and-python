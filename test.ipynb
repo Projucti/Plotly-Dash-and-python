{
 "cells": [
  {
   "cell_type": "code",
   "execution_count": 70,
   "metadata": {
    "collapsed": true
   },
   "outputs": [],
   "source": [
    "import pandas as pd\n",
    "df = pd.read_pickle('./data/data_germany.pickle')"
   ]
  },
  {
   "cell_type": "code",
   "execution_count": 71,
   "outputs": [
    {
     "data": {
      "text/plain": "                        ObjectId  IdBundesland          Bundesland  \\\nIdLandkreis Meldedatum                                               \n1001        2020-03-14  14395704             1  Schleswig-Holstein   \n            2020-03-14  14395704             1  Schleswig-Holstein   \n            2020-03-14  14395704             1  Schleswig-Holstein   \n            2020-03-14  14395704             1  Schleswig-Holstein   \n            2020-03-14  14395715             1  Schleswig-Holstein   \n...                          ...           ...                 ...   \n16077       2020-06-09  14551173            16           Thüringen   \n            2020-06-09  14551173            16           Thüringen   \n            2020-06-09  14551177            16           Thüringen   \n            2020-06-09  14551177            16           Thüringen   \n            2020-06-09  14551177            16           Thüringen   \n\n                                  Landkreis Altersgruppe Geschlecht  \\\nIdLandkreis Meldedatum                                                \n1001        2020-03-14         SK Flensburg      A15-A34          M   \n            2020-03-14         SK Flensburg      A15-A34          M   \n            2020-03-14         SK Flensburg      A15-A34          M   \n            2020-03-14         SK Flensburg      A15-A34          M   \n            2020-03-14         SK Flensburg      A15-A34          W   \n...                                     ...          ...        ...   \n16077       2020-06-09  LK Altenburger Land         A80+          M   \n            2020-06-09  LK Altenburger Land         A80+          M   \n            2020-06-09  LK Altenburger Land         A80+          W   \n            2020-06-09  LK Altenburger Land         A80+          W   \n            2020-06-09  LK Altenburger Land         A80+          W   \n\n                        AnzahlFall  AnzahlTodesfall  NeuerFall  \\\nIdLandkreis Meldedatum                                           \n1001        2020-03-14           1                0          0   \n            2020-03-14           1                0          0   \n            2020-03-14           1                0          0   \n            2020-03-14           1                0          0   \n            2020-03-14           1                0          0   \n...                            ...              ...        ...   \n16077       2020-06-09           1                0          0   \n            2020-06-09           1                0          0   \n            2020-06-09           1                0          0   \n            2020-06-09           1                0          0   \n            2020-06-09           1                0          0   \n\n                        NeuerTodesfall  NeuGenesen  AnzahlGenesen  \\\nIdLandkreis Meldedatum                                              \n1001        2020-03-14              -9           0              1   \n            2020-03-14              -9           0              1   \n            2020-03-14              -9           0              1   \n            2020-03-14              -9           0              1   \n            2020-03-14              -9           0              1   \n...                                ...         ...            ...   \n16077       2020-06-09              -9           0              1   \n            2020-06-09              -9           0              1   \n            2020-06-09              -9           0              1   \n            2020-06-09              -9           0              1   \n            2020-06-09              -9           0              1   \n\n                        IstErkrankungsbeginn  Kumulative Fälle  \\\nIdLandkreis Meldedatum                                           \n1001        2020-03-14                     1                 4   \n            2020-03-14                     1                 4   \n            2020-03-14                     1                 4   \n            2020-03-14                     1                 4   \n            2020-03-14                     1                 4   \n...                                      ...               ...   \n16077       2020-06-09                     1                75   \n            2020-06-09                     1                75   \n            2020-06-09                     0                75   \n            2020-06-09                     0                75   \n            2020-06-09                     0                75   \n\n                        Kumulative Genesene  Kumulative Todefälle  \\\nIdLandkreis Meldedatum                                              \n1001        2020-03-14                    4                     0   \n            2020-03-14                    4                     0   \n            2020-03-14                    4                     0   \n            2020-03-14                    4                     0   \n            2020-03-14                    4                     0   \n...                                     ...                   ...   \n16077       2020-06-09                   71                     4   \n            2020-06-09                   71                     4   \n            2020-06-09                   71                     4   \n            2020-06-09                   71                     4   \n            2020-06-09                   71                     4   \n\n                        Fälle/100k_Einwohner  \nIdLandkreis Meldedatum                        \n1001        2020-03-14              4.469074  \n            2020-03-14              4.469074  \n            2020-03-14              4.469074  \n            2020-03-14              4.469074  \n            2020-03-14              4.469074  \n...                                      ...  \n16077       2020-06-09             83.224217  \n            2020-06-09             83.224217  \n            2020-06-09             83.224217  \n            2020-06-09             83.224217  \n            2020-06-09             83.224217  \n\n[3244436 rows x 17 columns]",
      "text/html": "<div>\n<style scoped>\n    .dataframe tbody tr th:only-of-type {\n        vertical-align: middle;\n    }\n\n    .dataframe tbody tr th {\n        vertical-align: top;\n    }\n\n    .dataframe thead th {\n        text-align: right;\n    }\n</style>\n<table border=\"1\" class=\"dataframe\">\n  <thead>\n    <tr style=\"text-align: right;\">\n      <th></th>\n      <th></th>\n      <th>ObjectId</th>\n      <th>IdBundesland</th>\n      <th>Bundesland</th>\n      <th>Landkreis</th>\n      <th>Altersgruppe</th>\n      <th>Geschlecht</th>\n      <th>AnzahlFall</th>\n      <th>AnzahlTodesfall</th>\n      <th>NeuerFall</th>\n      <th>NeuerTodesfall</th>\n      <th>NeuGenesen</th>\n      <th>AnzahlGenesen</th>\n      <th>IstErkrankungsbeginn</th>\n      <th>Kumulative Fälle</th>\n      <th>Kumulative Genesene</th>\n      <th>Kumulative Todefälle</th>\n      <th>Fälle/100k_Einwohner</th>\n    </tr>\n    <tr>\n      <th>IdLandkreis</th>\n      <th>Meldedatum</th>\n      <th></th>\n      <th></th>\n      <th></th>\n      <th></th>\n      <th></th>\n      <th></th>\n      <th></th>\n      <th></th>\n      <th></th>\n      <th></th>\n      <th></th>\n      <th></th>\n      <th></th>\n      <th></th>\n      <th></th>\n      <th></th>\n      <th></th>\n    </tr>\n  </thead>\n  <tbody>\n    <tr>\n      <th rowspan=\"5\" valign=\"top\">1001</th>\n      <th>2020-03-14</th>\n      <td>14395704</td>\n      <td>1</td>\n      <td>Schleswig-Holstein</td>\n      <td>SK Flensburg</td>\n      <td>A15-A34</td>\n      <td>M</td>\n      <td>1</td>\n      <td>0</td>\n      <td>0</td>\n      <td>-9</td>\n      <td>0</td>\n      <td>1</td>\n      <td>1</td>\n      <td>4</td>\n      <td>4</td>\n      <td>0</td>\n      <td>4.469074</td>\n    </tr>\n    <tr>\n      <th>2020-03-14</th>\n      <td>14395704</td>\n      <td>1</td>\n      <td>Schleswig-Holstein</td>\n      <td>SK Flensburg</td>\n      <td>A15-A34</td>\n      <td>M</td>\n      <td>1</td>\n      <td>0</td>\n      <td>0</td>\n      <td>-9</td>\n      <td>0</td>\n      <td>1</td>\n      <td>1</td>\n      <td>4</td>\n      <td>4</td>\n      <td>0</td>\n      <td>4.469074</td>\n    </tr>\n    <tr>\n      <th>2020-03-14</th>\n      <td>14395704</td>\n      <td>1</td>\n      <td>Schleswig-Holstein</td>\n      <td>SK Flensburg</td>\n      <td>A15-A34</td>\n      <td>M</td>\n      <td>1</td>\n      <td>0</td>\n      <td>0</td>\n      <td>-9</td>\n      <td>0</td>\n      <td>1</td>\n      <td>1</td>\n      <td>4</td>\n      <td>4</td>\n      <td>0</td>\n      <td>4.469074</td>\n    </tr>\n    <tr>\n      <th>2020-03-14</th>\n      <td>14395704</td>\n      <td>1</td>\n      <td>Schleswig-Holstein</td>\n      <td>SK Flensburg</td>\n      <td>A15-A34</td>\n      <td>M</td>\n      <td>1</td>\n      <td>0</td>\n      <td>0</td>\n      <td>-9</td>\n      <td>0</td>\n      <td>1</td>\n      <td>1</td>\n      <td>4</td>\n      <td>4</td>\n      <td>0</td>\n      <td>4.469074</td>\n    </tr>\n    <tr>\n      <th>2020-03-14</th>\n      <td>14395715</td>\n      <td>1</td>\n      <td>Schleswig-Holstein</td>\n      <td>SK Flensburg</td>\n      <td>A15-A34</td>\n      <td>W</td>\n      <td>1</td>\n      <td>0</td>\n      <td>0</td>\n      <td>-9</td>\n      <td>0</td>\n      <td>1</td>\n      <td>1</td>\n      <td>4</td>\n      <td>4</td>\n      <td>0</td>\n      <td>4.469074</td>\n    </tr>\n    <tr>\n      <th>...</th>\n      <th>...</th>\n      <td>...</td>\n      <td>...</td>\n      <td>...</td>\n      <td>...</td>\n      <td>...</td>\n      <td>...</td>\n      <td>...</td>\n      <td>...</td>\n      <td>...</td>\n      <td>...</td>\n      <td>...</td>\n      <td>...</td>\n      <td>...</td>\n      <td>...</td>\n      <td>...</td>\n      <td>...</td>\n      <td>...</td>\n    </tr>\n    <tr>\n      <th rowspan=\"5\" valign=\"top\">16077</th>\n      <th>2020-06-09</th>\n      <td>14551173</td>\n      <td>16</td>\n      <td>Thüringen</td>\n      <td>LK Altenburger Land</td>\n      <td>A80+</td>\n      <td>M</td>\n      <td>1</td>\n      <td>0</td>\n      <td>0</td>\n      <td>-9</td>\n      <td>0</td>\n      <td>1</td>\n      <td>1</td>\n      <td>75</td>\n      <td>71</td>\n      <td>4</td>\n      <td>83.224217</td>\n    </tr>\n    <tr>\n      <th>2020-06-09</th>\n      <td>14551173</td>\n      <td>16</td>\n      <td>Thüringen</td>\n      <td>LK Altenburger Land</td>\n      <td>A80+</td>\n      <td>M</td>\n      <td>1</td>\n      <td>0</td>\n      <td>0</td>\n      <td>-9</td>\n      <td>0</td>\n      <td>1</td>\n      <td>1</td>\n      <td>75</td>\n      <td>71</td>\n      <td>4</td>\n      <td>83.224217</td>\n    </tr>\n    <tr>\n      <th>2020-06-09</th>\n      <td>14551177</td>\n      <td>16</td>\n      <td>Thüringen</td>\n      <td>LK Altenburger Land</td>\n      <td>A80+</td>\n      <td>W</td>\n      <td>1</td>\n      <td>0</td>\n      <td>0</td>\n      <td>-9</td>\n      <td>0</td>\n      <td>1</td>\n      <td>0</td>\n      <td>75</td>\n      <td>71</td>\n      <td>4</td>\n      <td>83.224217</td>\n    </tr>\n    <tr>\n      <th>2020-06-09</th>\n      <td>14551177</td>\n      <td>16</td>\n      <td>Thüringen</td>\n      <td>LK Altenburger Land</td>\n      <td>A80+</td>\n      <td>W</td>\n      <td>1</td>\n      <td>0</td>\n      <td>0</td>\n      <td>-9</td>\n      <td>0</td>\n      <td>1</td>\n      <td>0</td>\n      <td>75</td>\n      <td>71</td>\n      <td>4</td>\n      <td>83.224217</td>\n    </tr>\n    <tr>\n      <th>2020-06-09</th>\n      <td>14551177</td>\n      <td>16</td>\n      <td>Thüringen</td>\n      <td>LK Altenburger Land</td>\n      <td>A80+</td>\n      <td>W</td>\n      <td>1</td>\n      <td>0</td>\n      <td>0</td>\n      <td>-9</td>\n      <td>0</td>\n      <td>1</td>\n      <td>0</td>\n      <td>75</td>\n      <td>71</td>\n      <td>4</td>\n      <td>83.224217</td>\n    </tr>\n  </tbody>\n</table>\n<p>3244436 rows × 17 columns</p>\n</div>"
     },
     "execution_count": 71,
     "metadata": {},
     "output_type": "execute_result"
    }
   ],
   "source": [
    "df"
   ],
   "metadata": {
    "collapsed": false,
    "pycharm": {
     "name": "#%%\n"
    }
   }
  },
  {
   "cell_type": "code",
   "execution_count": 124,
   "outputs": [
    {
     "data": {
      "text/plain": "Geschlecht\nM            278\nW            361\nunbekannt      2\nName: AnzahlGenesen, dtype: Int64"
     },
     "execution_count": 124,
     "metadata": {},
     "output_type": "execute_result"
    }
   ],
   "source": [
    "_temp = df.loc[pd.IndexSlice[5774, :], :]\n",
    "_temp = _temp[_temp['NeuGenesen'].isin([0, 1])].drop_duplicates('ObjectId').groupby(\n",
    "        ['Geschlecht']).sum()['AnzahlGenesen']\n",
    "_temp"
   ],
   "metadata": {
    "collapsed": false,
    "pycharm": {
     "name": "#%%\n"
    }
   }
  },
  {
   "cell_type": "code",
   "execution_count": 87,
   "outputs": [
    {
     "data": {
      "text/plain": "20"
     },
     "execution_count": 87,
     "metadata": {},
     "output_type": "execute_result"
    }
   ],
   "source": [
    "_temp.sum()"
   ],
   "metadata": {
    "collapsed": false,
    "pycharm": {
     "name": "#%%\n"
    }
   }
  },
  {
   "cell_type": "code",
   "execution_count": 110,
   "outputs": [
    {
     "data": {
      "text/plain": "Index(['M', 'W', 'unbekannt'], dtype='object', name='Geschlecht')"
     },
     "execution_count": 110,
     "metadata": {},
     "output_type": "execute_result"
    }
   ],
   "source": [
    "gender = df.loc[pd.IndexSlice[5774, :]].groupby('Geschlecht').count().iloc[:, 0]\n",
    "gender.index"
   ],
   "metadata": {
    "collapsed": false,
    "pycharm": {
     "name": "#%%\n"
    }
   }
  },
  {
   "cell_type": "code",
   "execution_count": 109,
   "outputs": [],
   "source": [],
   "metadata": {
    "collapsed": false,
    "pycharm": {
     "name": "#%%\n"
    }
   }
  },
  {
   "cell_type": "code",
   "execution_count": null,
   "outputs": [],
   "source": [],
   "metadata": {
    "collapsed": false,
    "pycharm": {
     "name": "#%%\n"
    }
   }
  }
 ],
 "metadata": {
  "kernelspec": {
   "display_name": "Python 3",
   "language": "python",
   "name": "python3"
  },
  "language_info": {
   "codemirror_mode": {
    "name": "ipython",
    "version": 2
   },
   "file_extension": ".py",
   "mimetype": "text/x-python",
   "name": "python",
   "nbconvert_exporter": "python",
   "pygments_lexer": "ipython2",
   "version": "2.7.6"
  }
 },
 "nbformat": 4,
 "nbformat_minor": 0
}